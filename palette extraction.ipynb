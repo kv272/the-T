{
 "cells": [
  {
   "cell_type": "code",
   "execution_count": 2,
   "id": "41c0001d",
   "metadata": {},
   "outputs": [],
   "source": [
    "import glob"
   ]
  },
  {
   "cell_type": "code",
   "execution_count": 50,
   "id": "cb91941a",
   "metadata": {},
   "outputs": [],
   "source": [
    "path=\"anonymous/*.*\""
   ]
  },
  {
   "cell_type": "code",
   "execution_count": 4,
   "id": "bb59172c",
   "metadata": {},
   "outputs": [],
   "source": [
    "from colorthief import ColorThief"
   ]
  },
  {
   "cell_type": "code",
   "execution_count": 5,
   "id": "7900da59",
   "metadata": {},
   "outputs": [],
   "source": [
    "import matplotlib.pyplot as plt"
   ]
  },
  {
   "cell_type": "code",
   "execution_count": 6,
   "id": "e0aa88bc",
   "metadata": {},
   "outputs": [],
   "source": [
    "import pandas as pd"
   ]
  },
  {
   "cell_type": "code",
   "execution_count": 51,
   "id": "66eb17cd",
   "metadata": {},
   "outputs": [],
   "source": [
    "idx=1"
   ]
  },
  {
   "cell_type": "code",
   "execution_count": 52,
   "id": "a0a37655",
   "metadata": {},
   "outputs": [],
   "source": [
    "ind,vl1,vl2,vl3,vl4,vl5,vl6,vl7,vl8,vl9=[],[],[],[],[],[],[],[],[],[]"
   ]
  },
  {
   "cell_type": "code",
   "execution_count": 53,
   "id": "db6abee9",
   "metadata": {},
   "outputs": [
    {
     "ename": "UnidentifiedImageError",
     "evalue": "cannot identify image file 'anonymous\\\\192px.svg'",
     "output_type": "error",
     "traceback": [
      "\u001b[1;31m---------------------------------------------------------------------------\u001b[0m",
      "\u001b[1;31mUnidentifiedImageError\u001b[0m                    Traceback (most recent call last)",
      "Cell \u001b[1;32mIn[53], line 2\u001b[0m\n\u001b[0;32m      1\u001b[0m \u001b[38;5;28;01mfor\u001b[39;00m file \u001b[38;5;129;01min\u001b[39;00m glob\u001b[38;5;241m.\u001b[39mglob(path):\n\u001b[1;32m----> 2\u001b[0m     ct\u001b[38;5;241m=\u001b[39m \u001b[43mColorThief\u001b[49m\u001b[43m(\u001b[49m\u001b[43mfile\u001b[49m\u001b[43m)\u001b[49m\n\u001b[0;32m      3\u001b[0m     palette \u001b[38;5;241m=\u001b[39m ct\u001b[38;5;241m.\u001b[39mget_palette()\n\u001b[0;32m      4\u001b[0m     ind\u001b[38;5;241m.\u001b[39mappend(idx)\n",
      "File \u001b[1;32m~\\AppData\\Local\\Programs\\Python\\Python311\\Lib\\site-packages\\colorthief.py:39\u001b[0m, in \u001b[0;36mColorThief.__init__\u001b[1;34m(self, file)\u001b[0m\n\u001b[0;32m     32\u001b[0m \u001b[38;5;28;01mdef\u001b[39;00m \u001b[38;5;21m__init__\u001b[39m(\u001b[38;5;28mself\u001b[39m, file):\n\u001b[0;32m     33\u001b[0m     \u001b[38;5;124;03m\"\"\"Create one color thief for one image.\u001b[39;00m\n\u001b[0;32m     34\u001b[0m \n\u001b[0;32m     35\u001b[0m \u001b[38;5;124;03m    :param file: A filename (string) or a file object. The file object\u001b[39;00m\n\u001b[0;32m     36\u001b[0m \u001b[38;5;124;03m                 must implement `read()`, `seek()`, and `tell()` methods,\u001b[39;00m\n\u001b[0;32m     37\u001b[0m \u001b[38;5;124;03m                 and be opened in binary mode.\u001b[39;00m\n\u001b[0;32m     38\u001b[0m \u001b[38;5;124;03m    \"\"\"\u001b[39;00m\n\u001b[1;32m---> 39\u001b[0m     \u001b[38;5;28mself\u001b[39m\u001b[38;5;241m.\u001b[39mimage \u001b[38;5;241m=\u001b[39m \u001b[43mImage\u001b[49m\u001b[38;5;241;43m.\u001b[39;49m\u001b[43mopen\u001b[49m\u001b[43m(\u001b[49m\u001b[43mfile\u001b[49m\u001b[43m)\u001b[49m\n",
      "File \u001b[1;32m~\\AppData\\Local\\Programs\\Python\\Python311\\Lib\\site-packages\\PIL\\Image.py:3283\u001b[0m, in \u001b[0;36mopen\u001b[1;34m(fp, mode, formats)\u001b[0m\n\u001b[0;32m   3281\u001b[0m     warnings\u001b[38;5;241m.\u001b[39mwarn(message)\n\u001b[0;32m   3282\u001b[0m msg \u001b[38;5;241m=\u001b[39m \u001b[38;5;124m\"\u001b[39m\u001b[38;5;124mcannot identify image file \u001b[39m\u001b[38;5;132;01m%r\u001b[39;00m\u001b[38;5;124m\"\u001b[39m \u001b[38;5;241m%\u001b[39m (filename \u001b[38;5;28;01mif\u001b[39;00m filename \u001b[38;5;28;01melse\u001b[39;00m fp)\n\u001b[1;32m-> 3283\u001b[0m \u001b[38;5;28;01mraise\u001b[39;00m UnidentifiedImageError(msg)\n",
      "\u001b[1;31mUnidentifiedImageError\u001b[0m: cannot identify image file 'anonymous\\\\192px.svg'"
     ]
    }
   ],
   "source": [
    "for file in glob.glob(path):\n",
    "    ct= ColorThief(file)\n",
    "    palette = ct.get_palette()\n",
    "    ind.append(idx)\n",
    "    vl1.append(palette[0])\n",
    "    vl2.append(palette[1])\n",
    "    vl3.append(palette[2])\n",
    "    vl4.append(palette[3])\n",
    "    vl5.append(palette[4])\n",
    "    vl6.append(palette[5])\n",
    "    vl7.append(palette[6])\n",
    "    vl8.append(palette[7])\n",
    "    vl9.append(palette[8])\n",
    "    idx+=1"
   ]
  },
  {
   "cell_type": "code",
   "execution_count": 47,
   "id": "d3606ad4",
   "metadata": {},
   "outputs": [],
   "source": [
    "data={\n",
    "    'index':ind,\n",
    "    'v1':vl1,\n",
    "    'v2':vl2,\n",
    "    'v3':vl3,\n",
    "    'v4':vl4,\n",
    "    'v5':vl5,\n",
    "    'v6':vl6,\n",
    "    'v7':vl7,\n",
    "    'v8':vl8,\n",
    "    'v9':vl9\n",
    "}"
   ]
  },
  {
   "cell_type": "code",
   "execution_count": 48,
   "id": "9ee6ad70",
   "metadata": {},
   "outputs": [],
   "source": [
    "df = pd.DataFrame(data)"
   ]
  },
  {
   "cell_type": "code",
   "execution_count": 49,
   "id": "e18e1493",
   "metadata": {},
   "outputs": [],
   "source": [
    "df.to_csv('MYSTERY_DATASET.csv', mode='a', index=False, header=False)"
   ]
  }
 ],
 "metadata": {
  "kernelspec": {
   "display_name": "Python 3 (ipykernel)",
   "language": "python",
   "name": "python3"
  },
  "language_info": {
   "codemirror_mode": {
    "name": "ipython",
    "version": 3
   },
   "file_extension": ".py",
   "mimetype": "text/x-python",
   "name": "python",
   "nbconvert_exporter": "python",
   "pygments_lexer": "ipython3",
   "version": "3.11.1"
  }
 },
 "nbformat": 4,
 "nbformat_minor": 5
}
