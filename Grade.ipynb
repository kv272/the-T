{
 "cells": [
  {
   "cell_type": "code",
   "execution_count": 1,
   "id": "e8f9ce4a",
   "metadata": {},
   "outputs": [],
   "source": [
    "import numpy as np"
   ]
  },
  {
   "cell_type": "code",
   "execution_count": 2,
   "id": "f8cb69e9",
   "metadata": {},
   "outputs": [],
   "source": [
    "import cv2"
   ]
  },
  {
   "cell_type": "code",
   "execution_count": 4,
   "id": "2e4f2240",
   "metadata": {},
   "outputs": [],
   "source": [
    "def color_transfer(source,target,clip=True,preserve_paper=True):\n",
    "    source =cv2.cvtColor(source,cv2.COLOR_BGR2LAB).astype(\"float32\")\n",
    "    target =cv2.cvtColor(target,cv2.COLOR_BGR2LAB).astype(\"float32\")\n",
    "    (lavgSrc, lcurrSrc, aavgSrc, acurrSrc, bavgSrc, bcurrSrc) = image_stats(source)\n",
    "    (lavgTar, lcurrTar, aavgTar, acurrTar, bavgTar, bcurrTar) = image_stats(target)\n",
    "    (l,a,b)=cv2.split(target)\n",
    "    l-=lavgTar\n",
    "    a-=aavgTar\n",
    "    b-=bavgTar\n",
    "    \n",
    "    if preserve_paper:\n",
    "        l=(lavgTar/lcurrSrc)*l\n",
    "        a = (acurrTar / acurrSrc) * a\n",
    "        b = (bcurrTar / bcurrSrc) * b\n",
    "    else:\n",
    "        l = (lcurrSrc / lcurrTar) * l\n",
    "        a = (acurrSrc / acurrTar) * a\n",
    "        b = (bcurrSrc / bcurrTar) * b\n",
    "        \n",
    "    l += lavgSrc\n",
    "    a += aavgSrc\n",
    "    b += bavgSrc\n",
    "    transfer = cv2.merge([l, a, b])\n",
    "    transfer = cv2.cvtColor(transfer.astype(\"uint8\"), cv2.COLOR_LAB2BGR)\n",
    "    return transfer\n",
    "def image_stats(image):\n",
    "    (l, a, b) = cv2.split(image)\n",
    "    (lavg, lcurr) = (l.mean(), l.std())\n",
    "    (aavg, acurr) = (a.mean(), a.std())\n",
    "    (bavg, bcurr) = (b.mean(), b.std())\n",
    "    return (lavg, lcurr, aavg, acurr, bavg,bcurr)\n",
    "def _min_max_scale(arr, new_range=(0, 255)):\n",
    "    mn = arr.min()\n",
    "    mx = arr.max()\n",
    "\n",
    "    if mn < new_range[0] or mx > new_range[1]:\n",
    "        scaled = (new_range[1] - new_range[0]) * (arr - mn) / (mx - mn) + new_range[0]\n",
    "    else:\n",
    "        scaled = arr\n",
    "\n",
    "    return scaled\n",
    "    "
   ]
  },
  {
   "cell_type": "code",
   "execution_count": 5,
   "id": "34e6019b",
   "metadata": {},
   "outputs": [],
   "source": [
    "def _scale_array(arr, clip=True):\n",
    "\n",
    "    if clip:\n",
    "        scaled = np.clip(arr, 0, 255)\n",
    "    else:\n",
    "        scale_range = (max([arr.min(), 0]), min([arr.max(), 255]))\n",
    "        scaled = _min_max_scale(arr, new_range=scale_range)\n",
    "\n",
    "    return scaled"
   ]
  },
  {
   "cell_type": "code",
   "execution_count": 113,
   "id": "8cd63010",
   "metadata": {},
   "outputs": [],
   "source": [
    "source=cv2.imread(\"target.png\")"
   ]
  },
  {
   "cell_type": "code",
   "execution_count": 107,
   "id": "4eb881fb",
   "metadata": {},
   "outputs": [],
   "source": [
    "target=cv2.imread(\"target1.png\")"
   ]
  },
  {
   "cell_type": "code",
   "execution_count": 109,
   "id": "75ee7288",
   "metadata": {},
   "outputs": [],
   "source": [
    "new_image=color_transfer(source,target)"
   ]
  },
  {
   "cell_type": "code",
   "execution_count": 10,
   "id": "99a2c8ba",
   "metadata": {},
   "outputs": [],
   "source": [
    "def rescaleframe(frame,scale=0.5):\n",
    "    width=int(frame.shape[1]*scale)\n",
    "    height=int(frame.shape[0]*scale)\n",
    "    dimensions=(width,height)\n",
    "    return cv2.resize(frame,dimensions,interpolation=cv2.INTER_AREA)"
   ]
  },
  {
   "cell_type": "code",
   "execution_count": 114,
   "id": "cfd1d688",
   "metadata": {},
   "outputs": [],
   "source": [
    "source=rescaleframe(source)"
   ]
  },
  {
   "cell_type": "code",
   "execution_count": 108,
   "id": "ccc1d6c7",
   "metadata": {},
   "outputs": [],
   "source": [
    "target=rescaleframe(target)"
   ]
  },
  {
   "cell_type": "code",
   "execution_count": 115,
   "id": "8039eb3a",
   "metadata": {},
   "outputs": [],
   "source": [
    "new_image=color_transfer(source,target)"
   ]
  },
  {
   "cell_type": "code",
   "execution_count": 116,
   "id": "93418eee",
   "metadata": {
    "scrolled": false
   },
   "outputs": [
    {
     "data": {
      "text/plain": [
       "-1"
      ]
     },
     "execution_count": 116,
     "metadata": {},
     "output_type": "execute_result"
    }
   ],
   "source": [
    "cv2.imshow(\"here\",source)\n",
    "cv2.waitKey(0)\n",
    "cv2.destroyAllWindows()\n",
    "cv2.waitKey(1)"
   ]
  },
  {
   "cell_type": "code",
   "execution_count": 117,
   "id": "2e766a64",
   "metadata": {},
   "outputs": [
    {
     "data": {
      "text/plain": [
       "-1"
      ]
     },
     "execution_count": 117,
     "metadata": {},
     "output_type": "execute_result"
    }
   ],
   "source": [
    "cv2.imshow(\"here\",target)\n",
    "cv2.waitKey(0)\n",
    "cv2.destroyAllWindows()\n",
    "cv2.waitKey(1)"
   ]
  },
  {
   "cell_type": "code",
   "execution_count": 118,
   "id": "f91d26d5",
   "metadata": {},
   "outputs": [
    {
     "data": {
      "text/plain": [
       "-1"
      ]
     },
     "execution_count": 118,
     "metadata": {},
     "output_type": "execute_result"
    }
   ],
   "source": [
    "cv2.imshow(\"here\",new_image)\n",
    "cv2.waitKey(0)\n",
    "cv2.destroyAllWindows()\n",
    "cv2.waitKey(1)"
   ]
  }
 ],
 "metadata": {
  "kernelspec": {
   "display_name": "Python 3 (ipykernel)",
   "language": "python",
   "name": "python3"
  },
  "language_info": {
   "codemirror_mode": {
    "name": "ipython",
    "version": 3
   },
   "file_extension": ".py",
   "mimetype": "text/x-python",
   "name": "python",
   "nbconvert_exporter": "python",
   "pygments_lexer": "ipython3",
   "version": "3.11.1"
  }
 },
 "nbformat": 4,
 "nbformat_minor": 5
}
