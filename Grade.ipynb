{
 "cells": [
  {
   "cell_type": "code",
   "execution_count": 1,
   "id": "e8f9ce4a",
   "metadata": {},
   "outputs": [],
   "source": [
    "import numpy as np"
   ]
  },
  {
   "cell_type": "code",
   "execution_count": 2,
   "id": "f8cb69e9",
   "metadata": {},
   "outputs": [],
   "source": [
    "import cv2"
   ]
  },
  {
   "cell_type": "code",
   "execution_count": 3,
   "id": "2e4f2240",
   "metadata": {},
   "outputs": [],
   "source": [
    "def color_transfer(source, target, clip=True, preserve_paper=True):\n",
    "    source = cv2.cvtColor(source, cv2.COLOR_BGR2LAB).astype(\"float32\")\n",
    "    target = cv2.cvtColor(target, cv2.COLOR_BGR2LAB).astype(\"float32\")\n",
    "    (lMeanSrc, lStdSrc, aMeanSrc, aStdSrc, bMeanSrc, bStdSrc) = image_stats(source)\n",
    "    (lMeanTar, lStdTar, aMeanTar, aStdTar, bMeanTar, bStdTar) = image_stats(target)\n",
    "    (l, a, b) = cv2.split(target)\n",
    "    l -= lMeanTar\n",
    "    a -= aMeanTar\n",
    "    b -= bMeanTar\n",
    "\n",
    "    if preserve_paper:\n",
    "        l = (lStdTar / lStdSrc) * l\n",
    "        a = (aStdTar / aStdSrc) * a\n",
    "        b = (bStdTar / bStdSrc) * b\n",
    "    else:\n",
    "        l = (lStdSrc / lStdTar) * l\n",
    "        a = (aStdSrc / aStdTar) * a\n",
    "        b = (bStdSrc / bStdTar) * b\n",
    "    l += lMeanSrc\n",
    "    a += aMeanSrc\n",
    "    b += bMeanSrc\n",
    "    l = _scale_array(l, clip=clip)\n",
    "    a = _scale_array(a, clip=clip)\n",
    "    b = _scale_array(b, clip=clip)\n",
    "    transfer = cv2.merge([l, a, b])\n",
    "    transfer = cv2.cvtColor(transfer.astype(\"uint8\"), cv2.COLOR_LAB2BGR)\n",
    "    return transfer"
   ]
  },
  {
   "cell_type": "code",
   "execution_count": 9,
   "id": "35b79985",
   "metadata": {},
   "outputs": [],
   "source": [
    "def _scale_array(arr, clip=True):\n",
    "    if clip:\n",
    "        scaled = np.clip(arr, 0, 255)\n",
    "    else:\n",
    "        scale_range = (max([arr.min(), 0]), min([arr.max(), 255]))\n",
    "        scaled = _min_max_scale(arr, new_range=scale_range)\n",
    "\n",
    "    return scaled"
   ]
  },
  {
   "cell_type": "code",
   "execution_count": 4,
   "id": "6acdf132",
   "metadata": {},
   "outputs": [],
   "source": [
    "def image_stats(image):\n",
    "    (l, a, b) = cv2.split(image)\n",
    "    (lMean, lStd) = (l.mean(), l.std())\n",
    "    (aMean, aStd) = (a.mean(), a.std())\n",
    "    (bMean, bStd) = (b.mean(), b.std())\n",
    "    return (lMean, lStd, aMean, aStd, bMean, bStd)"
   ]
  },
  {
   "cell_type": "code",
   "execution_count": 5,
   "id": "34e6019b",
   "metadata": {},
   "outputs": [],
   "source": [
    "def _min_max_scale(arr, new_range=(0, 255)):\n",
    "    mn = arr.min()\n",
    "    mx = arr.max()\n",
    "    if mn < new_range[0] or mx > new_range[1]:\n",
    "        scaled = (new_range[1] - new_range[0]) * (arr - mn) / (mx - mn) + new_range[0]\n",
    "    else:\n",
    "        scaled = arr\n",
    "\n",
    "    return scaled"
   ]
  },
  {
   "cell_type": "code",
   "execution_count": 6,
   "id": "8cd63010",
   "metadata": {},
   "outputs": [],
   "source": [
    "source=cv2.imread(\"target.png\")"
   ]
  },
  {
   "cell_type": "code",
   "execution_count": 7,
   "id": "4eb881fb",
   "metadata": {},
   "outputs": [],
   "source": [
    "target=cv2.imread(\"target1.png\")"
   ]
  },
  {
   "cell_type": "code",
   "execution_count": 10,
   "id": "75ee7288",
   "metadata": {},
   "outputs": [],
   "source": [
    "new_image=color_transfer(source,target)"
   ]
  },
  {
   "cell_type": "code",
   "execution_count": 11,
   "id": "99a2c8ba",
   "metadata": {},
   "outputs": [],
   "source": [
    "def rescaleframe(frame,scale=0.5):\n",
    "    width=int(frame.shape[1]*scale)\n",
    "    height=int(frame.shape[0]*scale)\n",
    "    dimensions=(width,height)\n",
    "    return cv2.resize(frame,dimensions,interpolation=cv2.INTER_AREA)"
   ]
  },
  {
   "cell_type": "code",
   "execution_count": 15,
   "id": "93418eee",
   "metadata": {
    "scrolled": false
   },
   "outputs": [
    {
     "data": {
      "text/plain": [
       "-1"
      ]
     },
     "execution_count": 15,
     "metadata": {},
     "output_type": "execute_result"
    }
   ],
   "source": [
    "\n",
    "cv2.imshow(\"here\",source)\n",
    "cv2.waitKey(0)\n",
    "cv2.destroyAllWindows()\n",
    "cv2.waitKey(1)"
   ]
  },
  {
   "cell_type": "code",
   "execution_count": 16,
   "id": "2e766a64",
   "metadata": {},
   "outputs": [
    {
     "data": {
      "text/plain": [
       "-1"
      ]
     },
     "execution_count": 16,
     "metadata": {},
     "output_type": "execute_result"
    }
   ],
   "source": [
    "cv2.imshow(\"here\",target)\n",
    "cv2.waitKey(0)\n",
    "cv2.destroyAllWindows()\n",
    "cv2.waitKey(1)"
   ]
  },
  {
   "cell_type": "code",
   "execution_count": 17,
   "id": "f91d26d5",
   "metadata": {},
   "outputs": [
    {
     "data": {
      "text/plain": [
       "-1"
      ]
     },
     "execution_count": 17,
     "metadata": {},
     "output_type": "execute_result"
    }
   ],
   "source": [
    "cv2.imshow(\"here\",new_image)\n",
    "cv2.waitKey(0)\n",
    "cv2.destroyAllWindows()\n",
    "cv2.waitKey(1)"
   ]
  }
 ],
 "metadata": {
  "kernelspec": {
   "display_name": "Python 3 (ipykernel)",
   "language": "python",
   "name": "python3"
  },
  "language_info": {
   "codemirror_mode": {
    "name": "ipython",
    "version": 3
   },
   "file_extension": ".py",
   "mimetype": "text/x-python",
   "name": "python",
   "nbconvert_exporter": "python",
   "pygments_lexer": "ipython3",
   "version": "3.11.1"
  }
 },
 "nbformat": 4,
 "nbformat_minor": 5
}
